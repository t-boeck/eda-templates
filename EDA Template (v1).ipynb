{
 "cells": [
  {
   "cell_type": "markdown",
   "metadata": {},
   "source": [
    "# EDA Template\n",
    "## Import packagaes & Data"
   ]
  },
  {
   "cell_type": "code",
   "execution_count": null,
   "metadata": {},
   "outputs": [],
   "source": [
    "import pandas as pd\n",
    "import numpy as np\n",
    "import io\n",
    "import matplotlib.pyplot as plt\n",
    "import seaborn as sns\n",
    "from scipy import stats\n",
    "import statsmodels.api as sm\n",
    "import sweetviz as sv"
   ]
  },
  {
   "cell_type": "code",
   "execution_count": null,
   "metadata": {},
   "outputs": [],
   "source": [
    "df = pd.read_csv('something.csv', low_memory=False)"
   ]
  },
  {
   "cell_type": "markdown",
   "metadata": {},
   "source": [
    "## Data Processing"
   ]
  },
  {
   "cell_type": "code",
   "execution_count": null,
   "metadata": {},
   "outputs": [],
   "source": [
    "#Take first 50 columns\n",
    "sdf = df.iloc[: , :50]\n",
    "\n",
    "#lowercase for easy referencing\n",
    "sdf.columns = sdf.columns.str.lower()\n",
    "\n",
    "#cut out data not above 0\n",
    "sdf = sdf.loc[sdf['sales'] > 0]\n",
    "\n",
    "#cut out duplicate column\n",
    "sdf = sdf.loc[:,~sdf.columns.duplicated()]\n",
    "\n",
    "#add a few features\n",
    "sdf['variable'] = ~sdf['variable'].isnull()\n",
    "sdf['is variable'] = sdf['variable']>=1\n",
    "sdf['variable'] = np.log(sdf['variable']+1)\n",
    "sdf2['variable'] = sdf['variable'].clip(upper=15)"
   ]
  },
  {
   "cell_type": "markdown",
   "metadata": {},
   "source": [
    "## Sweetviz"
   ]
  },
  {
   "cell_type": "code",
   "execution_count": null,
   "metadata": {
    "scrolled": true
   },
   "outputs": [],
   "source": [
    "my_report = sv.analyze(sdf, \"variable\")\n",
    "my_report.show_notebook()"
   ]
  },
  {
   "cell_type": "markdown",
   "metadata": {},
   "source": [
    "## Data Cleanup / Imputation"
   ]
  },
  {
   "cell_type": "code",
   "execution_count": null,
   "metadata": {},
   "outputs": [],
   "source": [
    "#Code to sequential\n",
    "codes = {\"startup\": 0 \n",
    "         , \"six_month\": 1\n",
    "         , \"one_year\": 2 \n",
    "         , \"three_year\": 3\n",
    "         , \"five_year\": 4 \n",
    "         , \"more\": 5 \n",
    "        }\n",
    "sdf['blah'] = sdf['blah'].map(codes)\n",
    "\n",
    "#Impute 0\n",
    "sdf['v1'] = sdf['v1'].fillna(0)\n",
    "#Impute median\n",
    "sdf['variable'] = sdf['days to submit application'].fillna(sdf['variable'].median())\n"
   ]
  },
  {
   "cell_type": "markdown",
   "metadata": {},
   "source": [
    "## Prep for modeling"
   ]
  },
  {
   "cell_type": "code",
   "execution_count": null,
   "metadata": {},
   "outputs": [],
   "source": [
    "#Dropping unwanted features and target variable\n",
    "X = sdf.drop(columns=['blah']) \n",
    "\n",
    "#Define Categorical (inc boolean) and Continuous features\n",
    "cat_features = ['color']\n",
    "cont_features = X.drop(columns=cat_features).columns.tolist()\n",
    "\n",
    "X = sm.add_constant(X)\n",
    "y = sdf['dependent_variable']\n",
    "\n",
    "X = pd.get_dummies(X, columns=cat_features, drop_first=True)"
   ]
  },
  {
   "cell_type": "markdown",
   "metadata": {},
   "source": [
    "## Correlation"
   ]
  },
  {
   "cell_type": "code",
   "execution_count": null,
   "metadata": {
    "scrolled": true
   },
   "outputs": [],
   "source": [
    "matrix = X.corr()['variable'].sort_values(key=abs, ascending=False)[1:6].to_frame()\n",
    "cmap = sns.diverging_palette(220, 20, as_cmap=True)\n",
    "f, ax = plt.subplots(figsize=(1,1.5))\n",
    "sns.heatmap(matrix, vmax=.5, vmin=-.5, annot=True,cmap=cmap)"
   ]
  },
  {
   "cell_type": "code",
   "execution_count": null,
   "metadata": {
    "scrolled": true
   },
   "outputs": [],
   "source": [
    "matrix = sdf.corr()\n",
    "\n",
    "sns.heatmap(matrix,vmax=.8,square=True,cmap='BuPu', annot = True);"
   ]
  },
  {
   "cell_type": "markdown",
   "metadata": {},
   "source": [
    "## Univariate Regressions"
   ]
  },
  {
   "cell_type": "code",
   "execution_count": null,
   "metadata": {},
   "outputs": [],
   "source": [
    "#independent and dependent variable\n",
    "ind = 'days to submit application'\n",
    "dep = 'is loan repaid'"
   ]
  },
  {
   "cell_type": "code",
   "execution_count": null,
   "metadata": {},
   "outputs": [],
   "source": [
    "X = sm.add_constant(sdf[ind])\n",
    "#X = sm.add_constant(sdf[['loan amount (usd, final)', 'required pfp lenders']])\n",
    "X = pd.get_dummies(X, drop_first=True)\n",
    "y = sdf[dep]\n",
    "model = sm.OLS(y, X).fit()\n",
    "model.summary()\n",
    "\n",
    "#f\"Feature {ind} has a p-value of {model.pvalues[ind]} and coefficient of {model.params[ind]}.\"\n",
    "# print(model.params[ind])\n",
    "# print(model.rsquared)\n",
    "#print(model.pvalues)\n",
    "# print(sdf[dep].corr(X[ind]))"
   ]
  },
  {
   "cell_type": "markdown",
   "metadata": {},
   "source": [
    "## Define custom continuous variable plotting function"
   ]
  },
  {
   "cell_type": "code",
   "execution_count": null,
   "metadata": {},
   "outputs": [],
   "source": [
    "def cont_plot(dep, ind, df):\n",
    "    #plots continuous variable kdes given dependent variable, independent variable and dataframe\n",
    "    \n",
    "    repaid_df = df[df[dep] == 1]\n",
    "    not_repaid_df = df[df[dep] == 0]\n",
    "    \n",
    "    custom_params = {\"axes.spines.right\": False, \"axes.spines.top\": False}\n",
    "    sns.set_theme(style=\"white\", rc=custom_params, font_scale = 2)\n",
    "    sns.color_palette()\n",
    "    \n",
    "    fig, ax = plt.subplots(figsize=(12, 6))\n",
    "    sns.kdeplot(data=repaid_df, x=ind#, stat='density'\n",
    "                ,color='royalblue', label='loan repaid'\n",
    "                , fill=True, ax=ax).set(yticklabels=[])\n",
    "    sns.kdeplot(data=not_repaid_df, x=ind#, stat='density'\n",
    "                ,color='orange', label='not repaid'\n",
    "                , fill=True, ax=ax).set(yticklabels=[])\n",
    "    plt.xlim([0, df[ind].max()+1])\n",
    "    ax.legend()\n",
    "    plt.tight_layout()\n",
    "    plt.show()"
   ]
  },
  {
   "cell_type": "code",
   "execution_count": null,
   "metadata": {
    "scrolled": true
   },
   "outputs": [],
   "source": [
    "for ind in cont_features:\n",
    "    cont_plot(dep, ind, sdf)\n"
   ]
  },
  {
   "cell_type": "markdown",
   "metadata": {},
   "source": [
    "## Custom Categorical Plotting function"
   ]
  },
  {
   "cell_type": "code",
   "execution_count": null,
   "metadata": {},
   "outputs": [],
   "source": [
    "def cat_plot(dep, ind, df, max_recs=50):\n",
    "    repaid_df = sdf[sdf[dep] == 1]\n",
    "    not_repaid_df = sdf[sdf[dep] == 0]\n",
    "    \n",
    "    custom_params = {\"axes.spines.right\": False, \"axes.spines.top\": False}\n",
    "    sns.set_theme(style=\"white\", rc=custom_params, font_scale = 2)\n",
    "    sns.color_palette()\n",
    "    #relative counts\n",
    "    relative_counts_repaid = repaid_df[ind].value_counts() / len(repaid_df)\n",
    "    relative_counts_not_repaid = not_repaid_df[ind].value_counts() / len(not_repaid_df)\n",
    "\n",
    "    #format into result df\n",
    "    a = pd.DataFrame({ ind: relative_counts_repaid.index, 'pct': relative_counts_repaid\n",
    "                        , dep: 'loan repaid'})\n",
    "    b = pd.DataFrame({ ind: relative_counts_not_repaid.index, 'pct': relative_counts_not_repaid\n",
    "                        , dep: 'not repaid'})\n",
    "    result = pd.concat([a,b],ignore_index=True)\n",
    "\n",
    "    #plot\n",
    "    fig, ax = plt.subplots(figsize=(12, 6))\n",
    "    sns.barplot(data=result, x=ind, y='pct', hue=dep, ax=ax)\n",
    "\n",
    "    ax.legend()\n",
    "    ax.yaxis.set_major_formatter(mtick.PercentFormatter(1.0))\n",
    "    plt.tight_layout()\n",
    "    plt.show()"
   ]
  },
  {
   "cell_type": "code",
   "execution_count": null,
   "metadata": {},
   "outputs": [],
   "source": []
  }
 ],
 "metadata": {
  "kernelspec": {
   "display_name": "Python 3",
   "language": "python",
   "name": "python3"
  },
  "language_info": {
   "codemirror_mode": {
    "name": "ipython",
    "version": 3
   },
   "file_extension": ".py",
   "mimetype": "text/x-python",
   "name": "python",
   "nbconvert_exporter": "python",
   "pygments_lexer": "ipython3",
   "version": "3.8.5"
  }
 },
 "nbformat": 4,
 "nbformat_minor": 4
}
